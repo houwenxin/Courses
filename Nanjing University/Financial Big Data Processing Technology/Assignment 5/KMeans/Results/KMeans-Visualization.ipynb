{
 "cells": [
  {
   "cell_type": "code",
   "execution_count": 133,
   "metadata": {
    "collapsed": true
   },
   "outputs": [],
   "source": [
    "import numpy as np\n",
    "import pandas as pd\n",
    "import matplotlib.pyplot as plt"
   ]
  },
  {
   "cell_type": "code",
   "execution_count": 138,
   "metadata": {},
   "outputs": [],
   "source": [
    "directory_list = [\"output_2_2\", \"output_2_5\", \"output_2_10\", \"output_5_2\", \"output_5_5\", \"output_5_10\"]\n",
    "fileIndex = 5\n",
    "filePath = \"D:/Study/Nanjing_University/金融大数据处理技术/11 MapReduce数据挖掘基础算法(1)/作业5/output/\"+ directory_list[fileIndex] \\\n",
    "            +\"/clusteredInstances\"\n",
    "fileName = filePath + '/part-m-00000'\n",
    "file = open(fileName)\n",
    "data = pd.read_table(file, header=None)\n",
    "file.close()"
   ]
  },
  {
   "cell_type": "code",
   "execution_count": 139,
   "metadata": {},
   "outputs": [
    {
     "data": {
      "text/plain": [
       "0      44,13\n",
       "1      30,36\n",
       "2       0,26\n",
       "3     100,77\n",
       "4      67,82\n",
       "5      67,41\n",
       "6      74,29\n",
       "7      95,43\n",
       "8      95,10\n",
       "9      81,21\n",
       "10     21,42\n",
       "11     10,19\n",
       "12     28,35\n",
       "13     57,28\n",
       "14     87,24\n",
       "15     82,53\n",
       "16     30,32\n",
       "17     23,52\n",
       "18      69,8\n",
       "19     97,42\n",
       "20     13,30\n",
       "21     99,89\n",
       "22      1,78\n",
       "23     41,36\n",
       "24     48,69\n",
       "25     68,33\n",
       "26     40,99\n",
       "27     94,58\n",
       "28     95,54\n",
       "29     97,95\n",
       "       ...  \n",
       "70     30,93\n",
       "71     47,19\n",
       "72     20,76\n",
       "73     33,89\n",
       "74     42,23\n",
       "75     32,11\n",
       "76     19,39\n",
       "77     98,86\n",
       "78     20,29\n",
       "79     45,93\n",
       "80     52,93\n",
       "81     80,67\n",
       "82     68,77\n",
       "83     13,33\n",
       "84     59,31\n",
       "85     21,27\n",
       "86      7,18\n",
       "87     99,84\n",
       "88     39,85\n",
       "89     29,68\n",
       "90     39,45\n",
       "91     91,37\n",
       "92     97,49\n",
       "93     56,48\n",
       "94       3,3\n",
       "95     53,56\n",
       "96     64,46\n",
       "97       6,6\n",
       "98     75,75\n",
       "99     64,12\n",
       "Name: 0, Length: 100, dtype: object"
      ]
     },
     "execution_count": 139,
     "metadata": {},
     "output_type": "execute_result"
    }
   ],
   "source": [
    "points = data[0]\n",
    "labels = data[1]\n",
    "points"
   ]
  },
  {
   "cell_type": "code",
   "execution_count": 140,
   "metadata": {},
   "outputs": [],
   "source": [
    "temp = np.zeros([len(points), 2])\n",
    "for i in range(len(points)):\n",
    "    #print(points[i].split(',')[0])\n",
    "    temp[i][0] = points[i].split(',')[0]\n",
    "    temp[i][1] = points[i].split(',')[1]\n",
    "points = pd.DataFrame(temp)"
   ]
  },
  {
   "cell_type": "code",
   "execution_count": 141,
   "metadata": {},
   "outputs": [
    {
     "data": {
      "image/png": "[encoded data removed]",
      "text/plain": [
       "<matplotlib.figure.Figure at 0x258305c5278>"
      ]
     },
     "metadata": {},
     "output_type": "display_data"
    }
   ],
   "source": [
    "savePath = \"D:/Study/Nanjing_University/金融大数据处理技术/11 MapReduce数据挖掘基础算法(1)/作业5/\"\n",
    "saveName = directory_list[fileIndex] + \".jpg\"\n",
    "\n",
    "plt.scatter(points[0], points[1], c=labels)\n",
    "\n",
    "plt.savefig(savePath + saveName)\n",
    "\n",
    "plt.show()"
   ]
  },
  {
   "cell_type": "code",
   "execution_count": 119,
   "metadata": {
    "collapsed": true
   },
   "outputs": [],
   "source": []
  }
 ],
 "metadata": {
  "kernelspec": {
   "display_name": "Python 3",
   "language": "python",
   "name": "python3"
  },
  "language_info": {
   "codemirror_mode": {
    "name": "ipython",
    "version": 3
   },
   "file_extension": ".py",
   "mimetype": "text/x-python",
   "name": "python",
   "nbconvert_exporter": "python",
   "pygments_lexer": "ipython3",
   "version": "3.6.1"
  }
 },
 "nbformat": 4,
 "nbformat_minor": 2
}
